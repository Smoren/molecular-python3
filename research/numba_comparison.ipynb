{
 "cells": [
  {
   "cell_type": "code",
   "execution_count": 9,
   "id": "initial_id",
   "metadata": {
    "collapsed": true,
    "ExecuteTime": {
     "end_time": "2023-11-20T12:40:05.970186181Z",
     "start_time": "2023-11-20T12:40:05.960267280Z"
    }
   },
   "outputs": [],
   "source": [
    "import numba as nb\n",
    "import numpy as np"
   ]
  },
  {
   "cell_type": "code",
   "execution_count": 2,
   "outputs": [
    {
     "name": "stdout",
     "output_type": "stream",
     "text": [
      "System info:\r\n",
      "\r\n",
      "\u001B[1m[\u001B[0m\u001B[34;49mnotice\u001B[0m\u001B[1;39;49m]\u001B[0m\u001B[39;49m A new release of pip is available: \u001B[0m\u001B[31;49m23.0.1\u001B[0m\u001B[39;49m -> \u001B[0m\u001B[32;49m23.3.1\u001B[0m\r\n",
      "\u001B[1m[\u001B[0m\u001B[34;49mnotice\u001B[0m\u001B[1;39;49m]\u001B[0m\u001B[39;49m To update, run: \u001B[0m\u001B[32;49mpip install --upgrade pip\u001B[0m\r\n",
      "--------------------------------------------------------------------------------\r\n",
      "__Time Stamp__\r\n",
      "Report started (local time)                   : 2023-11-20 15:38:09.679719\r\n",
      "UTC start time                                : 2023-11-20 12:38:09.679726\r\n",
      "Running time (s)                              : 0.439456\r\n",
      "\r\n",
      "__Hardware Information__\r\n",
      "Machine                                       : x86_64\r\n",
      "CPU Name                                      : skylake\r\n",
      "CPU Count                                     : 20\r\n",
      "Number of accessible CPUs                     : 20\r\n",
      "List of accessible CPUs cores                 : 0 1 2 3 4 5 6 7 8 9 10 11 12 13 14 15 16 17 18 19\r\n",
      "CFS Restrictions (CPUs worth of runtime)      : None\r\n",
      "\r\n",
      "CPU Features                                  : 64bit adx aes avx avx2 bmi bmi2\r\n",
      "                                                clflushopt cmov crc32 cx16 cx8\r\n",
      "                                                f16c fma fsgsbase fxsr invpcid\r\n",
      "                                                lzcnt mmx movbe pclmul pku popcnt\r\n",
      "                                                prfchw rdrnd rdseed sahf sgx sse\r\n",
      "                                                sse2 sse3 sse4.1 sse4.2 ssse3\r\n",
      "                                                xsave xsavec xsaveopt xsaves\r\n",
      "\r\n",
      "Memory Total (MB)                             : 31940\r\n",
      "Memory Available (MB)                         : 19189\r\n",
      "\r\n",
      "__OS Information__\r\n",
      "Platform Name                                 : Linux-5.15.0-88-generic-x86_64-with-glibc2.31\r\n",
      "Platform Release                              : 5.15.0-88-generic\r\n",
      "OS Name                                       : Linux\r\n",
      "OS Version                                    : #98~20.04.1-Ubuntu SMP Mon Oct 9 16:43:45 UTC 2023\r\n",
      "OS Specific Version                           : ?\r\n",
      "Libc Version                                  : glibc 2.31\r\n",
      "\r\n",
      "__Python Information__\r\n",
      "Python Compiler                               : GCC 9.4.0\r\n",
      "Python Implementation                         : CPython\r\n",
      "Python Version                                : 3.10.13\r\n",
      "Python Locale                                 : en_US.UTF-8\r\n",
      "\r\n",
      "__Numba Toolchain Versions__\r\n",
      "Numba Version                                 : 0.58.1\r\n",
      "llvmlite Version                              : 0.41.1\r\n",
      "\r\n",
      "__LLVM Information__\r\n",
      "LLVM Version                                  : 14.0.6\r\n",
      "\r\n",
      "__CUDA Information__\r\n",
      "CUDA Device Initialized                       : True\r\n",
      "CUDA Driver Version                           : 12.2\r\n",
      "CUDA Runtime Version                          : 12.0\r\n",
      "CUDA NVIDIA Bindings Available                : False\r\n",
      "CUDA NVIDIA Bindings In Use                   : False\r\n",
      "CUDA Minor Version Compatibility Available    : False\r\n",
      "CUDA Minor Version Compatibility Needed       : False\r\n",
      "CUDA Minor Version Compatibility In Use       : False\r\n",
      "CUDA Detect Output:\r\n",
      "Found 1 CUDA devices\r\n",
      "id 0    b'NVIDIA GeForce RTX 3060'                              [SUPPORTED]\r\n",
      "                      Compute Capability: 8.6\r\n",
      "                           PCI Device ID: 0\r\n",
      "                              PCI Bus ID: 1\r\n",
      "                                    UUID: GPU-253e4f0f-7e18-2c55-59a1-80962d92f424\r\n",
      "                                Watchdog: Enabled\r\n",
      "             FP32/FP64 Performance Ratio: 32\r\n",
      "Summary:\r\n",
      "\t1/1 devices are supported\r\n",
      "\r\n",
      "CUDA Libraries Test Output:\r\n",
      "Finding driver from candidates:\r\n",
      "\tlibcuda.so\r\n",
      "\tlibcuda.so.1\r\n",
      "\t/usr/lib/libcuda.so\r\n",
      "\t/usr/lib/libcuda.so.1\r\n",
      "\t/usr/lib64/libcuda.so\r\n",
      "\t/usr/lib64/libcuda.so.1\r\n",
      "Using loader <class 'ctypes.CDLL'>\r\n",
      "\tTrying to load driver...\tok\r\n",
      "\t\tLoaded from libcuda.so\r\n",
      "\tMapped libcuda.so paths:\r\n",
      "\t\t/usr/lib/x86_64-linux-gnu/libcuda.so.535.129.03\r\n",
      "Finding nvvm from System\r\n",
      "\tLocated at /usr/local/cuda/nvvm/lib64/libnvvm.so.4.0.0\r\n",
      "\tTrying to open library...\tok\r\n",
      "Finding nvrtc from System\r\n",
      "\tLocated at /usr/local/cuda/lib64/libnvrtc.so.12.0.140\r\n",
      "\tTrying to open library...\tok\r\n",
      "Finding cudart from System\r\n",
      "\tLocated at /usr/local/cuda/lib64/libcudart.so.12.0.146\r\n",
      "\tTrying to open library...\tok\r\n",
      "Finding cudadevrt from System\r\n",
      "\tLocated at /usr/local/cuda/lib64/libcudadevrt.a\r\n",
      "\tChecking library...\tok\r\n",
      "Finding libdevice from System\r\n",
      "\tLocated at /usr/local/cuda/nvvm/libdevice/libdevice.10.bc\r\n",
      "\tChecking library...\tok\r\n",
      "\r\n",
      "\r\n",
      "__NumPy Information__\r\n",
      "NumPy Version                                 : 1.26.2\r\n",
      "NumPy Supported SIMD features                 : ('MMX', 'SSE', 'SSE2', 'SSE3', 'SSSE3', 'SSE41', 'POPCNT', 'SSE42', 'AVX', 'F16C', 'FMA3', 'AVX2')\r\n",
      "NumPy Supported SIMD dispatch                 : ('SSSE3', 'SSE41', 'POPCNT', 'SSE42', 'AVX', 'F16C', 'FMA3', 'AVX2', 'AVX512F', 'AVX512CD', 'AVX512_KNL', 'AVX512_KNM', 'AVX512_SKX', 'AVX512_CLX', 'AVX512_CNL', 'AVX512_ICL')\r\n",
      "NumPy Supported SIMD baseline                 : ('SSE', 'SSE2', 'SSE3')\r\n",
      "NumPy AVX512_SKX support detected             : False\r\n",
      "\r\n",
      "__SVML Information__\r\n",
      "SVML State, config.USING_SVML                 : False\r\n",
      "SVML Library Loaded                           : False\r\n",
      "llvmlite Using SVML Patched LLVM              : True\r\n",
      "SVML Operational                              : False\r\n",
      "\r\n",
      "__Threading Layer Information__\r\n",
      "TBB Threading Layer Available                 : False\r\n",
      "+--> Disabled due to Unknown import problem.\r\n",
      "OpenMP Threading Layer Available              : True\r\n",
      "+-->Vendor: GNU\r\n",
      "Workqueue Threading Layer Available           : True\r\n",
      "+-->Workqueue imported successfully.\r\n",
      "\r\n",
      "__Numba Environment Variable Information__\r\n",
      "None found.\r\n",
      "\r\n",
      "__Conda Information__\r\n",
      "Conda not available.\r\n",
      "\r\n",
      "__Installed Packages__\r\n",
      "Package                   Version\r\n",
      "------------------------- ----------\r\n",
      "anyio                     4.0.0\r\n",
      "argon2-cffi               23.1.0\r\n",
      "argon2-cffi-bindings      21.2.0\r\n",
      "arrow                     1.3.0\r\n",
      "asttokens                 2.4.1\r\n",
      "async-lru                 2.0.4\r\n",
      "attrs                     23.1.0\r\n",
      "Babel                     2.13.1\r\n",
      "beautifulsoup4            4.12.2\r\n",
      "bleach                    6.1.0\r\n",
      "certifi                   2023.11.17\r\n",
      "cffi                      1.16.0\r\n",
      "charset-normalizer        3.3.2\r\n",
      "comm                      0.2.0\r\n",
      "debugpy                   1.8.0\r\n",
      "decorator                 5.1.1\r\n",
      "defusedxml                0.7.1\r\n",
      "exceptiongroup            1.1.3\r\n",
      "executing                 2.0.1\r\n",
      "fastjsonschema            2.19.0\r\n",
      "fqdn                      1.5.1\r\n",
      "icc-rt                    2020.0.133\r\n",
      "idna                      3.4\r\n",
      "intel-openmp              2020.0.133\r\n",
      "ipykernel                 6.26.0\r\n",
      "ipython                   8.17.2\r\n",
      "ipywidgets                8.1.1\r\n",
      "isoduration               20.11.0\r\n",
      "jedi                      0.19.1\r\n",
      "Jinja2                    3.1.2\r\n",
      "json5                     0.9.14\r\n",
      "jsonpointer               2.4\r\n",
      "jsonschema                4.20.0\r\n",
      "jsonschema-specifications 2023.11.1\r\n",
      "jupyter                   1.0.0\r\n",
      "jupyter_client            8.6.0\r\n",
      "jupyter-console           6.6.3\r\n",
      "jupyter_core              5.5.0\r\n",
      "jupyter-events            0.9.0\r\n",
      "jupyter-lsp               2.2.0\r\n",
      "jupyter_server            2.10.1\r\n",
      "jupyter_server_terminals  0.4.4\r\n",
      "jupyterlab                4.0.9\r\n",
      "jupyterlab-pygments       0.2.2\r\n",
      "jupyterlab_server         2.25.2\r\n",
      "jupyterlab-widgets        3.0.9\r\n",
      "llvmlite                  0.41.1\r\n",
      "MarkupSafe                2.1.3\r\n",
      "matplotlib-inline         0.1.6\r\n",
      "mistune                   3.0.2\r\n",
      "nbclient                  0.9.0\r\n",
      "nbconvert                 7.11.0\r\n",
      "nbformat                  5.9.2\r\n",
      "nest-asyncio              1.5.8\r\n",
      "notebook                  7.0.6\r\n",
      "notebook_shim             0.2.3\r\n",
      "numba                     0.58.1\r\n",
      "numpy                     1.26.2\r\n",
      "overrides                 7.4.0\r\n",
      "packaging                 23.2\r\n",
      "pandocfilters             1.5.0\r\n",
      "parso                     0.8.3\r\n",
      "pexpect                   4.8.0\r\n",
      "pip                       23.0.1\r\n",
      "platformdirs              4.0.0\r\n",
      "prometheus-client         0.18.0\r\n",
      "prompt-toolkit            3.0.41\r\n",
      "psutil                    5.9.6\r\n",
      "ptyprocess                0.7.0\r\n",
      "pure-eval                 0.2.2\r\n",
      "pycparser                 2.21\r\n",
      "pygame                    2.5.2\r\n",
      "Pygments                  2.17.1\r\n",
      "python-dateutil           2.8.2\r\n",
      "python-json-logger        2.0.7\r\n",
      "PyYAML                    6.0.1\r\n",
      "pyzmq                     25.1.1\r\n",
      "qtconsole                 5.5.1\r\n",
      "QtPy                      2.4.1\r\n",
      "referencing               0.31.0\r\n",
      "requests                  2.31.0\r\n",
      "rfc3339-validator         0.1.4\r\n",
      "rfc3986-validator         0.1.1\r\n",
      "rpds-py                   0.13.0\r\n",
      "scipy                     1.11.3\r\n",
      "Send2Trash                1.8.2\r\n",
      "setuptools                65.5.0\r\n",
      "six                       1.16.0\r\n",
      "sniffio                   1.3.0\r\n",
      "soupsieve                 2.5\r\n",
      "stack-data                0.6.3\r\n",
      "terminado                 0.18.0\r\n",
      "tinycss2                  1.2.1\r\n",
      "tk                        0.1.0\r\n",
      "tomli                     2.0.1\r\n",
      "tornado                   6.3.3\r\n",
      "traitlets                 5.13.0\r\n",
      "types-python-dateutil     2.8.19.14\r\n",
      "typing_extensions         4.8.0\r\n",
      "uri-template              1.3.0\r\n",
      "urllib3                   2.1.0\r\n",
      "wcwidth                   0.2.10\r\n",
      "webcolors                 1.13\r\n",
      "webencodings              0.5.1\r\n",
      "websocket-client          1.6.4\r\n",
      "widgetsnbextension        4.0.9\r\n",
      "\r\n",
      "No errors reported.\r\n",
      "\r\n",
      "\r\n",
      "__Warning log__\r\n",
      "Warning: Conda not available.\r\n",
      " Error was [Errno 2] No such file or directory: 'conda'\r\n",
      "\r\n",
      "--------------------------------------------------------------------------------\r\n",
      "If requested, please copy and paste the information between\r\n",
      "the dashed (----) lines, or from a given specific section as\r\n",
      "appropriate.\r\n",
      "\r\n",
      "=============================================================\r\n",
      "IMPORTANT: Please ensure that you are happy with sharing the\r\n",
      "contents of the information present, any information that you\r\n",
      "wish to keep private you should remove before sharing.\r\n",
      "=============================================================\r\n",
      "\r\n"
     ]
    }
   ],
   "source": [
    "!numba -s\n",
    "\n",
    "# Должны совпадать:\n",
    "# CUDA Driver Version                           : 12.0\n",
    "# CUDA Runtime Version                          : 12.0"
   ],
   "metadata": {
    "collapsed": false,
    "ExecuteTime": {
     "end_time": "2023-11-20T12:38:10.275788929Z",
     "start_time": "2023-11-20T12:38:09.305739578Z"
    }
   },
   "id": "3f15932d1b0c33b6"
  },
  {
   "cell_type": "markdown",
   "source": [
    "# isin(a, b)"
   ],
   "metadata": {
    "collapsed": false
   },
   "id": "5be7b1d23ed79861"
  },
  {
   "cell_type": "code",
   "execution_count": 3,
   "outputs": [
    {
     "data": {
      "text/plain": "(100000000,)"
     },
     "metadata": {},
     "output_type": "display_data"
    },
    {
     "data": {
      "text/plain": "array([       0,        1,        2, ..., 99999997, 99999998, 99999999])"
     },
     "metadata": {},
     "output_type": "display_data"
    },
    {
     "data": {
      "text/plain": "(50000000,)"
     },
     "metadata": {},
     "output_type": "display_data"
    },
    {
     "data": {
      "text/plain": "array([       0,        2,        4, ..., 99999994, 99999996, 99999998])"
     },
     "metadata": {},
     "output_type": "display_data"
    }
   ],
   "source": [
    "a = np.arange(0, 100000000)\n",
    "b = np.arange(0, 100000000, 2)\n",
    "display(a.shape, a)\n",
    "display(b.shape, b)"
   ],
   "metadata": {
    "collapsed": false,
    "ExecuteTime": {
     "end_time": "2023-11-20T10:46:43.593776901Z",
     "start_time": "2023-11-20T10:46:43.445266261Z"
    }
   },
   "id": "65bac27203290694"
  },
  {
   "cell_type": "code",
   "execution_count": 90,
   "outputs": [
    {
     "name": "stdout",
     "output_type": "stream",
     "text": [
      "17.3 s ± 39.1 ms per loop (mean ± std. dev. of 2 runs, 1 loop each)\n"
     ]
    },
    {
     "data": {
      "text/plain": "array([ True, False,  True, ..., False,  True, False])"
     },
     "metadata": {},
     "output_type": "display_data"
    }
   ],
   "source": [
    "def isin(a, b):\n",
    "    out = np.empty(a.shape[0], dtype=np.bool_)\n",
    "    b = set(b)\n",
    "    for i in nb.prange(a.shape[0]):\n",
    "        out[i] = a[i] in b\n",
    "    return out\n",
    "\n",
    "%timeit -n 1 -r 2 isin(a, b)\n",
    "display(isin(a, b))"
   ],
   "metadata": {
    "collapsed": false,
    "ExecuteTime": {
     "end_time": "2023-11-20T10:00:25.318805592Z",
     "start_time": "2023-11-20T09:59:34.242038902Z"
    }
   },
   "id": "4d89339b299524fb"
  },
  {
   "cell_type": "code",
   "execution_count": 91,
   "outputs": [
    {
     "name": "stdout",
     "output_type": "stream",
     "text": [
      "1.02 s ± 14.6 ms per loop (mean ± std. dev. of 2 runs, 10 loops each)\n"
     ]
    },
    {
     "data": {
      "text/plain": "array([ True, False,  True, ..., False,  True, False])"
     },
     "metadata": {},
     "output_type": "display_data"
    }
   ],
   "source": [
    "@nb.njit(boundscheck=False, looplift=True, nogil=True)\n",
    "def isin(a, b):\n",
    "    out = np.empty(a.shape[0], dtype=np.bool_)\n",
    "    b = set(b)\n",
    "    for i in nb.prange(a.shape[0]):\n",
    "        out[i] = a[i] in b\n",
    "    return out\n",
    "\n",
    "%timeit -n 10 -r 2 isin(a, b)\n",
    "display(isin(a, b))"
   ],
   "metadata": {
    "collapsed": false,
    "ExecuteTime": {
     "end_time": "2023-11-20T10:02:57.271649637Z",
     "start_time": "2023-11-20T10:02:35.817265733Z"
    }
   },
   "id": "e82c565c17c26181"
  },
  {
   "cell_type": "code",
   "execution_count": 92,
   "outputs": [
    {
     "name": "stdout",
     "output_type": "stream",
     "text": [
      "874 ms ± 22.6 ms per loop (mean ± std. dev. of 2 runs, 10 loops each)\n"
     ]
    },
    {
     "data": {
      "text/plain": "array([ True, False,  True, ..., False,  True, False])"
     },
     "metadata": {},
     "output_type": "display_data"
    }
   ],
   "source": [
    "@nb.njit(boundscheck=False, looplift=True, nogil=True, parallel=True)\n",
    "def isin(a, b):\n",
    "    out = np.empty(a.shape[0], dtype=np.bool_)\n",
    "    b = set(b)\n",
    "    for i in nb.prange(a.shape[0]):\n",
    "        out[i] = a[i] in b\n",
    "    return out\n",
    "\n",
    "%timeit -n 10 -r 2 isin(a, b)\n",
    "display(isin(a, b))"
   ],
   "metadata": {
    "collapsed": false,
    "ExecuteTime": {
     "end_time": "2023-11-20T10:03:20.115425606Z",
     "start_time": "2023-11-20T10:03:01.740551134Z"
    }
   },
   "id": "892f2ad587fa7cb6"
  },
  {
   "cell_type": "code",
   "execution_count": 93,
   "outputs": [
    {
     "name": "stdout",
     "output_type": "stream",
     "text": [
      "878 ms ± 21.8 ms per loop (mean ± std. dev. of 2 runs, 10 loops each)\n"
     ]
    },
    {
     "data": {
      "text/plain": "array([ True, False,  True, ..., False,  True, False])"
     },
     "metadata": {},
     "output_type": "display_data"
    }
   ],
   "source": [
    "@nb.njit(boundscheck=False, looplift=True, nogil=True, parallel=True)\n",
    "def isin(a, b, clusters_count):\n",
    "    out = np.empty(a.shape[0], dtype=np.bool_)\n",
    "    b = set(b)\n",
    "    cluster_size = np.ceil(a.shape[0] / clusters_count)\n",
    "    for i in nb.prange(clusters_count):\n",
    "        start = i * cluster_size\n",
    "        for j in range(start, start+cluster_size):\n",
    "            out[j] = a[j] in b\n",
    "    return out\n",
    "\n",
    "%timeit -n 10 -r 2 isin(a, b, 10)\n",
    "display(isin(a, b, 10))"
   ],
   "metadata": {
    "collapsed": false,
    "ExecuteTime": {
     "end_time": "2023-11-20T10:03:48.533341169Z",
     "start_time": "2023-11-20T10:03:30.090797161Z"
    }
   },
   "id": "9469fd6c9c4d0395"
  },
  {
   "cell_type": "code",
   "execution_count": 94,
   "outputs": [
    {
     "name": "stdout",
     "output_type": "stream",
     "text": [
      "1.03 s ± 10 ms per loop (mean ± std. dev. of 2 runs, 10 loops each)\n"
     ]
    },
    {
     "data": {
      "text/plain": "array([ True, False,  True, ..., False,  True, False])"
     },
     "metadata": {},
     "output_type": "display_data"
    }
   ],
   "source": [
    "@nb.guvectorize([(nb.int64[:], nb.int64[:], nb.bool_[:])], '(n),(m)->(n)', nopython=True)\n",
    "def isin(a, b, out):\n",
    "    b = set(b)\n",
    "    for i in nb.prange(a.shape[0]):\n",
    "        out[i] = a[i] in b\n",
    "\n",
    "%timeit -n 10 -r 2 isin1(a, b)\n",
    "display(isin(a, b))"
   ],
   "metadata": {
    "collapsed": false,
    "ExecuteTime": {
     "end_time": "2023-11-20T10:04:14.290313574Z",
     "start_time": "2023-11-20T10:03:52.087486012Z"
    }
   },
   "id": "efb6a01d83985070"
  },
  {
   "cell_type": "code",
   "execution_count": 96,
   "outputs": [
    {
     "name": "stdout",
     "output_type": "stream",
     "text": [
      "1.07 s ± 8.98 ms per loop (mean ± std. dev. of 2 runs, 10 loops each)\n"
     ]
    },
    {
     "data": {
      "text/plain": "array([ True, False,  True, ..., False,  True, False])"
     },
     "metadata": {},
     "output_type": "display_data"
    }
   ],
   "source": [
    "@nb.guvectorize([(nb.int64[:], nb.int64[:], nb.bool_[:])], '(n),(m)->(n)', nopython=True, target='parallel')\n",
    "def isin(a, b, out):\n",
    "    b = set(b)\n",
    "    for i in nb.prange(a.shape[0]):\n",
    "        out[i] = a[i] in b\n",
    "\n",
    "%timeit -n 10 -r 2 isin(a, b)\n",
    "display(isin(a, b))"
   ],
   "metadata": {
    "collapsed": false,
    "ExecuteTime": {
     "end_time": "2023-11-20T10:07:28.757529155Z",
     "start_time": "2023-11-20T10:07:04.959084705Z"
    }
   },
   "id": "5f91cc8721e6b3ca"
  },
  {
   "cell_type": "markdown",
   "source": [
    "# sin(x^2) + cos(y + a)"
   ],
   "metadata": {
    "collapsed": false
   },
   "id": "d330baad7ac61faa"
  },
  {
   "cell_type": "code",
   "execution_count": 3,
   "outputs": [
    {
     "data": {
      "text/plain": "(1000000,)"
     },
     "metadata": {},
     "output_type": "display_data"
    },
    {
     "data": {
      "text/plain": "array([18., 14., 25., ..., 78., 16., 25.])"
     },
     "metadata": {},
     "output_type": "display_data"
    },
    {
     "data": {
      "text/plain": "(1000000,)"
     },
     "metadata": {},
     "output_type": "display_data"
    },
    {
     "data": {
      "text/plain": "array([65., 47., 69., ..., 76., 74., 86.])"
     },
     "metadata": {},
     "output_type": "display_data"
    }
   ],
   "source": [
    "x = np.random.randint(low=0, high=100, size=1000000).astype(np.float64)\n",
    "y = np.random.randint(low=0, high=100, size=1000000).astype(np.float64)\n",
    "display(x.shape, x)\n",
    "display(y.shape, y)"
   ],
   "metadata": {
    "collapsed": false,
    "ExecuteTime": {
     "end_time": "2023-11-20T12:38:32.245097011Z",
     "start_time": "2023-11-20T12:38:32.197062009Z"
    }
   },
   "id": "d7dd58f68d592c25"
  },
  {
   "cell_type": "code",
   "execution_count": 14,
   "outputs": [
    {
     "name": "stdout",
     "output_type": "stream",
     "text": [
      "1.33 s ± 19.9 ms per loop (mean ± std. dev. of 2 runs, 10 loops each)\n"
     ]
    },
    {
     "data": {
      "text/plain": "array([-1.15184262,  1.78032651,  0.39947694, ...,  1.88980814,\n       -0.21386096, -0.99776154])"
     },
     "metadata": {},
     "output_type": "display_data"
    }
   ],
   "source": [
    "def my_math_func(x, y, a):\n",
    "    out = np.empty(x.shape[0], dtype=np.float64)\n",
    "    for i in nb.prange(x.shape[0]):\n",
    "        out[i] = np.sin(x[i]**2) + np.cos(y[i] + a)\n",
    "    return out\n",
    "\n",
    "%timeit -n 10 -r 2 my_math_func(x, y, 10.)\n",
    "display(my_math_func(x, y, 10.))"
   ],
   "metadata": {
    "collapsed": false,
    "ExecuteTime": {
     "end_time": "2023-11-20T10:54:43.455391709Z",
     "start_time": "2023-11-20T10:54:15.416112788Z"
    }
   },
   "id": "7bade0495191a386"
  },
  {
   "cell_type": "code",
   "execution_count": 15,
   "outputs": [
    {
     "name": "stdout",
     "output_type": "stream",
     "text": [
      "30.4 ms ± 2.65 ms per loop (mean ± std. dev. of 2 runs, 100 loops each)\n"
     ]
    },
    {
     "data": {
      "text/plain": "array([-1.15184262,  1.78032651,  0.39947694, ...,  1.88980814,\n       -0.21386096, -0.99776154])"
     },
     "metadata": {},
     "output_type": "display_data"
    }
   ],
   "source": [
    "@nb.njit\n",
    "def my_math_func(x, y, a):\n",
    "    out = np.empty(x.shape[0], dtype=np.float64)\n",
    "    for i in nb.prange(x.shape[0]):\n",
    "        out[i] = np.sin(x[i]**2) + np.cos(y[i] + a)\n",
    "    return out\n",
    "\n",
    "%timeit -n 100 -r 2 my_math_func(x, y, 10.)\n",
    "display(my_math_func(x, y, 10.))"
   ],
   "metadata": {
    "collapsed": false,
    "ExecuteTime": {
     "end_time": "2023-11-20T10:54:55.139966303Z",
     "start_time": "2023-11-20T10:54:49.018691234Z"
    }
   },
   "id": "1de0958fac7c2f6c"
  },
  {
   "cell_type": "code",
   "execution_count": 16,
   "outputs": [
    {
     "name": "stdout",
     "output_type": "stream",
     "text": [
      "29 ms ± 879 µs per loop (mean ± std. dev. of 2 runs, 100 loops each)\n"
     ]
    },
    {
     "data": {
      "text/plain": "array([-1.15184262,  1.78032651,  0.39947694, ...,  1.88980814,\n       -0.21386096, -0.99776154])"
     },
     "metadata": {},
     "output_type": "display_data"
    }
   ],
   "source": [
    "@nb.njit\n",
    "def my_math_func(x, y, a):\n",
    "    out = np.empty(x.shape[0], dtype=np.float64)\n",
    "    for i in nb.prange(x.shape[0]):\n",
    "        out[i] = np.sin(x[i]**2) + np.cos(y[i] + a)\n",
    "    return out\n",
    "\n",
    "%timeit -n 100 -r 2 my_math_func(x, y, 10.)\n",
    "display(my_math_func(x, y, 10.))"
   ],
   "metadata": {
    "collapsed": false,
    "ExecuteTime": {
     "end_time": "2023-11-20T10:55:04.153183282Z",
     "start_time": "2023-11-20T10:54:58.334424931Z"
    }
   },
   "id": "c7c9847f3a317e50"
  },
  {
   "cell_type": "code",
   "execution_count": 17,
   "outputs": [
    {
     "name": "stdout",
     "output_type": "stream",
     "text": [
      "5.85 ms ± 3.35 ms per loop (mean ± std. dev. of 2 runs, 100 loops each)\n"
     ]
    },
    {
     "data": {
      "text/plain": "array([-1.15184262,  1.78032651,  0.39947694, ...,  1.88980814,\n       -0.21386096, -0.99776154])"
     },
     "metadata": {},
     "output_type": "display_data"
    }
   ],
   "source": [
    "@nb.njit(parallel=True)\n",
    "def my_math_func(x, y, a):\n",
    "    out = np.empty(x.shape[0], dtype=np.float64)\n",
    "    for i in nb.prange(x.shape[0]):\n",
    "        out[i] = np.sin(x[i]**2) + np.cos(y[i] + a)\n",
    "    return out\n",
    "\n",
    "%timeit -n 100 -r 2 my_math_func(x, y, 10.)\n",
    "display(my_math_func(x, y, 10.))"
   ],
   "metadata": {
    "collapsed": false,
    "ExecuteTime": {
     "end_time": "2023-11-20T10:55:06.770105228Z",
     "start_time": "2023-11-20T10:55:05.583720395Z"
    }
   },
   "id": "3e881485a3e18e37"
  },
  {
   "cell_type": "code",
   "execution_count": 18,
   "outputs": [
    {
     "name": "stdout",
     "output_type": "stream",
     "text": [
      "28.2 ms ± 563 µs per loop (mean ± std. dev. of 2 runs, 100 loops each)\n"
     ]
    },
    {
     "data": {
      "text/plain": "array([-1.15184262,  1.78032651,  0.39947694, ...,  1.88980814,\n       -0.21386096, -0.99776154])"
     },
     "metadata": {},
     "output_type": "display_data"
    }
   ],
   "source": [
    "@nb.guvectorize([(nb.float64[:], nb.float64[:], nb.float64, nb.float64[:])], '(n),(n),()->(n)', nopython=True)\n",
    "def my_math_func(x, y, a, out):\n",
    "    for i in nb.prange(x.shape[0]):\n",
    "        out[i] = np.sin(x[i]**2) + np.cos(y[i] + a)\n",
    "\n",
    "%timeit -n 100 -r 2 my_math_func(x, y, 10.)\n",
    "display(my_math_func(x, y, 10.))"
   ],
   "metadata": {
    "collapsed": false,
    "ExecuteTime": {
     "end_time": "2023-11-20T10:55:16.438931383Z",
     "start_time": "2023-11-20T10:55:10.698234617Z"
    }
   },
   "id": "5b8008c04036d854"
  },
  {
   "cell_type": "code",
   "execution_count": 20,
   "outputs": [
    {
     "name": "stdout",
     "output_type": "stream",
     "text": [
      "33.4 ms ± 89.1 µs per loop (mean ± std. dev. of 2 runs, 100 loops each)\n"
     ]
    },
    {
     "data": {
      "text/plain": "array([-1.15184262,  1.78032651,  0.39947694, ...,  1.88980814,\n       -0.21386096, -0.99776154])"
     },
     "metadata": {},
     "output_type": "display_data"
    }
   ],
   "source": [
    "@nb.guvectorize([(nb.float64[:], nb.float64[:], nb.float64, nb.float64[:])], '(n),(n),()->(n)', nopython=True, target='parallel')\n",
    "def my_math_func(x, y, a, out):\n",
    "    for i in nb.prange(x.shape[0]):\n",
    "        out[i] = np.sin(x[i]**2) + np.cos(y[i] + a)\n",
    "\n",
    "%timeit -n 100 -r 2 my_math_func(x, y, 10.)\n",
    "display(my_math_func(x, y, 10.))"
   ],
   "metadata": {
    "collapsed": false,
    "ExecuteTime": {
     "end_time": "2023-11-20T10:55:39.522127050Z",
     "start_time": "2023-11-20T10:55:32.700570626Z"
    }
   },
   "id": "7ac06f82b2412d19"
  },
  {
   "cell_type": "code",
   "execution_count": 21,
   "outputs": [
    {
     "name": "stdout",
     "output_type": "stream",
     "text": [
      "30.5 ms ± 703 µs per loop (mean ± std. dev. of 2 runs, 100 loops each)\n"
     ]
    },
    {
     "data": {
      "text/plain": "array([-1.15184262,  1.78032651,  0.39947694, ...,  1.88980814,\n       -0.21386096, -0.99776154])"
     },
     "metadata": {},
     "output_type": "display_data"
    }
   ],
   "source": [
    "def my_math_func(x, y, a):\n",
    "    return np.sin(x**2) + np.cos(y + a)\n",
    "\n",
    "%timeit -n 100 -r 2 my_math_func(x, y, 10)\n",
    "display(my_math_func(x, y, 10))"
   ],
   "metadata": {
    "collapsed": false,
    "ExecuteTime": {
     "end_time": "2023-11-20T10:55:49.028169868Z",
     "start_time": "2023-11-20T10:55:42.899140464Z"
    }
   },
   "id": "3ac78d7b5ecdb241"
  },
  {
   "cell_type": "code",
   "execution_count": 22,
   "outputs": [
    {
     "name": "stdout",
     "output_type": "stream",
     "text": [
      "29.6 ms ± 1.37 ms per loop (mean ± std. dev. of 2 runs, 100 loops each)\n"
     ]
    },
    {
     "data": {
      "text/plain": "array([-1.15184262,  1.78032651,  0.39947694, ...,  1.88980814,\n       -0.21386096, -0.99776154])"
     },
     "metadata": {},
     "output_type": "display_data"
    }
   ],
   "source": [
    "@nb.njit\n",
    "def my_math_func(x, y, a):\n",
    "    return np.sin(x**2) + np.cos(y + a)\n",
    "\n",
    "%timeit -n 100 -r 2 my_math_func(x, y, 10)\n",
    "display(my_math_func(x, y, 10))"
   ],
   "metadata": {
    "collapsed": false,
    "ExecuteTime": {
     "end_time": "2023-11-20T10:56:00.418405054Z",
     "start_time": "2023-11-20T10:55:54.420338130Z"
    }
   },
   "id": "9b6f3aadbf96ec52"
  },
  {
   "cell_type": "code",
   "execution_count": 24,
   "outputs": [
    {
     "name": "stdout",
     "output_type": "stream",
     "text": [
      "5.42 ms ± 2.7 ms per loop (mean ± std. dev. of 2 runs, 100 loops each)\n"
     ]
    },
    {
     "data": {
      "text/plain": "array([-1.15184262,  1.78032651,  0.39947694, ...,  1.88980814,\n       -0.21386096, -0.99776154])"
     },
     "metadata": {},
     "output_type": "display_data"
    }
   ],
   "source": [
    "@nb.njit(parallel=True)\n",
    "def my_math_func(x, y, a):\n",
    "    return np.sin(x**2) + np.cos(y + a)\n",
    "\n",
    "%timeit -n 100 -r 2 my_math_func(x, y, 10)\n",
    "display(my_math_func(x, y, 10))"
   ],
   "metadata": {
    "collapsed": false,
    "ExecuteTime": {
     "end_time": "2023-11-20T10:56:08.225691929Z",
     "start_time": "2023-11-20T10:56:07.152579851Z"
    }
   },
   "id": "fe0fb05349a7caff"
  },
  {
   "cell_type": "code",
   "execution_count": 4,
   "outputs": [
    {
     "name": "stderr",
     "output_type": "stream",
     "text": [
      "/home/smoren/projects/python/molecular-python3/venv/lib/python3.10/site-packages/numba/cuda/dispatcher.py:536: NumbaPerformanceWarning: Grid size 1 will likely result in GPU under-utilization due to low occupancy.\n",
      "  warn(NumbaPerformanceWarning(msg))\n"
     ]
    },
    {
     "name": "stdout",
     "output_type": "stream",
     "text": [
      "1.12 s ± 8.13 ms per loop (mean ± std. dev. of 2 runs, 10 loops each)\n"
     ]
    },
    {
     "data": {
      "text/plain": "array([ 0.51768605,  1.83939688, -0.71995467, ...,  0.56990004,\n       -1.67923153, -0.00441418])"
     },
     "metadata": {},
     "output_type": "display_data"
    }
   ],
   "source": [
    "@nb.guvectorize([(nb.float64[:], nb.float64[:], nb.float64, nb.float64[:])], '(n),(n),()->(n)', nopython=True, target='cuda')\n",
    "def my_math_func(x, y, a, out):\n",
    "    for i in nb.prange(x.shape[0]):\n",
    "        out[i] = np.sin(x[i]**2) + np.cos(y[i] + a)\n",
    "\n",
    "%timeit -n 10 -r 2 my_math_func(x, y, 10.)\n",
    "display(my_math_func(x, y, 10.))"
   ],
   "metadata": {
    "collapsed": false,
    "ExecuteTime": {
     "end_time": "2023-11-20T12:39:06.148807413Z",
     "start_time": "2023-11-20T12:38:42.150988711Z"
    }
   },
   "id": "2733e2f186b96322"
  },
  {
   "cell_type": "code",
   "execution_count": 5,
   "outputs": [
    {
     "name": "stdout",
     "output_type": "stream",
     "text": [
      "4.48 ms ± 346 µs per loop (mean ± std. dev. of 2 runs, 100 loops each)\n"
     ]
    },
    {
     "data": {
      "text/plain": "array([ 0.51768605,  1.83939688, -0.71995467, ...,  0.56990004,\n       -1.67923153, -0.00441418])"
     },
     "metadata": {},
     "output_type": "display_data"
    }
   ],
   "source": [
    "@nb.guvectorize([(nb.float64[:], nb.float64[:], nb.float64, nb.float64[:])], '(n),(n),()->(n)', nopython=True, target='cuda')\n",
    "def my_math_func(x, y, a, out):\n",
    "    for i in nb.prange(x.shape[0]):\n",
    "        out[i] = np.sin(x[i]**2) + np.cos(y[i] + a)\n",
    "\n",
    "x_ = x.reshape(100, 100, 100, -1)\n",
    "y_ = y.reshape(100, 100, 100, -1)\n",
    "\n",
    "%timeit -n 100 -r 2 my_math_func(x_, y_, 10.)\n",
    "display(my_math_func(x_, y_, 10.).reshape(-1))"
   ],
   "metadata": {
    "collapsed": false,
    "ExecuteTime": {
     "end_time": "2023-11-20T12:39:10.971570599Z",
     "start_time": "2023-11-20T12:39:09.968328500Z"
    }
   },
   "id": "332cad3b4113ab72"
  },
  {
   "cell_type": "markdown",
   "source": [
    "# add_scalars(x, y)"
   ],
   "metadata": {
    "collapsed": false
   },
   "id": "f02b78469c75dab8"
  },
  {
   "cell_type": "code",
   "execution_count": 6,
   "outputs": [
    {
     "data": {
      "text/plain": "(100000000,)"
     },
     "metadata": {},
     "output_type": "display_data"
    },
    {
     "data": {
      "text/plain": "array([48., 50., 41., ..., 91., 47., 44.])"
     },
     "metadata": {},
     "output_type": "display_data"
    },
    {
     "data": {
      "text/plain": "(100000000,)"
     },
     "metadata": {},
     "output_type": "display_data"
    },
    {
     "data": {
      "text/plain": "array([75., 54., 71., ..., 35., 38., 45.])"
     },
     "metadata": {},
     "output_type": "display_data"
    }
   ],
   "source": [
    "x = np.random.randint(low=0, high=100, size=100000000).astype(np.float64)\n",
    "y = np.random.randint(low=0, high=100, size=100000000).astype(np.float64)\n",
    "display(x.shape, x)\n",
    "display(y.shape, y)"
   ],
   "metadata": {
    "collapsed": false,
    "ExecuteTime": {
     "end_time": "2023-11-20T12:39:22.450944553Z",
     "start_time": "2023-11-20T12:39:21.042342813Z"
    }
   },
   "id": "7ed87c364cfa10c9"
  },
  {
   "cell_type": "code",
   "execution_count": 6,
   "outputs": [
    {
     "name": "stdout",
     "output_type": "stream",
     "text": [
      "261 ms ± 16.9 ms per loop (mean ± std. dev. of 2 runs, 10 loops each)\n"
     ]
    },
    {
     "data": {
      "text/plain": "array([ 72., 110., 131., ..., 150., 108., 120.])"
     },
     "metadata": {},
     "output_type": "display_data"
    }
   ],
   "source": [
    "@nb.njit\n",
    "def add_scalars(x, y):\n",
    "    out = np.empty(x.shape[0], dtype=np.float64)\n",
    "    for i in nb.prange(x.shape[0]):\n",
    "        out[i] = x[i] + y[i]\n",
    "    return out\n",
    "\n",
    "%timeit -n 10 -r 2 add_scalars(x, y)\n",
    "display(add_scalars(x, y))"
   ],
   "metadata": {
    "collapsed": false,
    "ExecuteTime": {
     "end_time": "2023-11-20T12:23:47.640816221Z",
     "start_time": "2023-11-20T12:23:42.095795951Z"
    }
   },
   "id": "6fae1e559265d8be"
  },
  {
   "cell_type": "code",
   "execution_count": 40,
   "outputs": [
    {
     "name": "stdout",
     "output_type": "stream",
     "text": [
      "129 ms ± 13.8 ms per loop (mean ± std. dev. of 2 runs, 10 loops each)\n"
     ]
    },
    {
     "data": {
      "text/plain": "array([ 72., 110., 131., ..., 150., 108., 120.])"
     },
     "metadata": {},
     "output_type": "display_data"
    }
   ],
   "source": [
    "@nb.njit(parallel=True)\n",
    "def add_scalars(x, y):\n",
    "    out = np.empty(x.shape[0], dtype=np.float64)\n",
    "    for i in nb.prange(x.shape[0]):\n",
    "        out[i] = x[i] + y[i]\n",
    "    return out\n",
    "\n",
    "%timeit -n 10 -r 2 add_scalars(x, y)\n",
    "display(add_scalars(x, y))"
   ],
   "metadata": {
    "collapsed": false,
    "ExecuteTime": {
     "end_time": "2023-11-20T12:37:28.589424970Z",
     "start_time": "2023-11-20T12:37:25.863979394Z"
    }
   },
   "id": "457058e1aa48dc4a"
  },
  {
   "cell_type": "code",
   "execution_count": 7,
   "outputs": [
    {
     "name": "stdout",
     "output_type": "stream",
     "text": [
      "329 ms ± 1.77 ms per loop (mean ± std. dev. of 2 runs, 10 loops each)\n"
     ]
    },
    {
     "data": {
      "text/plain": "array([123., 104., 112., ..., 126.,  85.,  89.])"
     },
     "metadata": {},
     "output_type": "display_data"
    }
   ],
   "source": [
    "@nb.guvectorize([(nb.float64[:], nb.float64[:], nb.float64[:])], '(n),(n)->(n)', nopython=True, target='cuda')\n",
    "def add_scalars(x, y, out):\n",
    "    for i in nb.prange(x.shape[0]):\n",
    "        out[i] = x[i] + y[i]\n",
    "\n",
    "x_ = x.reshape(100, 100, 100, 100, -1)\n",
    "y_ = y.reshape(100, 100, 100, 100, -1)\n",
    "\n",
    "%timeit -n 10 -r 2 add_scalars(x_, y_)\n",
    "display(add_scalars(x_, y_).reshape(-1))"
   ],
   "metadata": {
    "collapsed": false,
    "ExecuteTime": {
     "end_time": "2023-11-20T12:39:31.622906923Z",
     "start_time": "2023-11-20T12:39:24.509561950Z"
    }
   },
   "id": "665dddbf01d44797"
  }
 ],
 "metadata": {
  "kernelspec": {
   "display_name": "Python 3",
   "language": "python",
   "name": "python3"
  },
  "language_info": {
   "codemirror_mode": {
    "name": "ipython",
    "version": 2
   },
   "file_extension": ".py",
   "mimetype": "text/x-python",
   "name": "python",
   "nbconvert_exporter": "python",
   "pygments_lexer": "ipython2",
   "version": "2.7.6"
  }
 },
 "nbformat": 4,
 "nbformat_minor": 5
}
