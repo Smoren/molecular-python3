{
 "cells": [
  {
   "cell_type": "code",
   "execution_count": 3,
   "id": "initial_id",
   "metadata": {
    "collapsed": true,
    "ExecuteTime": {
     "end_time": "2023-11-28T07:23:53.943397418Z",
     "start_time": "2023-11-28T07:23:53.938053752Z"
    }
   },
   "outputs": [],
   "source": [
    "import numpy as np\n",
    "import matplotlib.pyplot as plt\n",
    "import seaborn as sns"
   ]
  },
  {
   "cell_type": "code",
   "execution_count": 4,
   "outputs": [],
   "source": [
    "def lennard_jones_potential(r, sigma: float, eps: float) -> np.ndarray:\n",
    "    buf = (sigma / r)**6\n",
    "    return 4 * eps * (buf * buf - buf)\n",
    "\n",
    "def lennard_jones_force(r, sigma: float, eps: float) -> np.ndarray:\n",
    "    return 24*eps*np.power(sigma, 6)/np.power(r, 7) - 48*eps*np.power(sigma, 12)/np.power(r, 13)"
   ],
   "metadata": {
    "collapsed": false,
    "ExecuteTime": {
     "end_time": "2023-11-28T07:23:54.072275076Z",
     "start_time": "2023-11-28T07:23:54.060308116Z"
    }
   },
   "id": "95f2bdd2bb64947b"
  },
  {
   "cell_type": "code",
   "execution_count": 34,
   "outputs": [],
   "source": [
    "def get_r(x1, y1, x2, y2):\n",
    "    return np.sqrt(np.power(x2-x1, 2) + np.power(y2-y1, 2))\n",
    "\n",
    "def get_a(c1, c2, r, sigma: float, eps: float):\n",
    "    return lennard_jones_force(r, sigma, eps) * (c2-c1)/r\n",
    "\n",
    "def get_v(v, a, dt):\n",
    "    return v + a*dt\n",
    "\n",
    "def get_coord(c, v, a, dt):\n",
    "    return c + v + a * np.power(dt, 2)/2"
   ],
   "metadata": {
    "collapsed": false,
    "ExecuteTime": {
     "end_time": "2023-11-28T07:54:32.090389423Z",
     "start_time": "2023-11-28T07:54:32.048435667Z"
    }
   },
   "id": "77b01ca6f1bd8fe"
  },
  {
   "cell_type": "code",
   "execution_count": 35,
   "outputs": [],
   "source": [
    "def get_a_2d(x1, y1, x2, y2, sigma: float, eps: float):\n",
    "    r = get_r(x1, y1, x2, y2)\n",
    "    return get_a(x1, x2, r, sigma, eps), get_a(y1, y2, r, sigma, eps)\n",
    "\n",
    "def get_a_2d_sum(x, y, xs, ys, sigma: float, eps: float):\n",
    "    sum_x, sum_y = 0, 0\n",
    "    for i in range(len(xs)):\n",
    "        _ax, _ay = get_a_2d(x, y, xs[i], ys[i], sigma, eps)\n",
    "        sum_x += _ax\n",
    "        sum_y += _ay\n",
    "    return sum_x, sum_y\n",
    "\n",
    "def get_v_2d(vx, vy, ax, ay, dt):\n",
    "    return get_v(vx, ax, dt), get_v(vy, ay, dt)\n",
    "\n",
    "def get_coords_2d(x, y, vx, vy, ax, ay, dt):\n",
    "    return get_coord(x, vx, ax, dt), get_coord(y, vy, ay, dt)"
   ],
   "metadata": {
    "collapsed": false,
    "ExecuteTime": {
     "end_time": "2023-11-28T07:54:32.322341988Z",
     "start_time": "2023-11-28T07:54:32.317378681Z"
    }
   },
   "id": "b6d042b21375372b"
  },
  {
   "cell_type": "code",
   "execution_count": 36,
   "outputs": [],
   "source": [
    "class Particle:\n",
    "    x: float\n",
    "    y: float\n",
    "    vx: float = 0\n",
    "    vy: float = 0\n",
    "    ax: float = 0\n",
    "    ay = float = 0\n",
    "    \n",
    "    def __init__(self, x, y):\n",
    "        self.x = x\n",
    "        self.y = y\n",
    "\n",
    "    def set_coords(self, x, y):\n",
    "        self.x = x\n",
    "        self.y = y\n",
    "\n",
    "    def set_v(self, vx, vy):\n",
    "        self.vx = vx\n",
    "        self.vy = vy\n",
    "\n",
    "    def set_a(self, ax, ay):\n",
    "        self.ax = ax\n",
    "        self.ay = ay\n",
    "        \n",
    "    def __repr__(self):\n",
    "        return f'Particle<x: {self.x}, y: {self.y}, vx: {self.vx}, vy: {self.vy}, ax: {self.ax}, ay: {self.ay}>'"
   ],
   "metadata": {
    "collapsed": false,
    "ExecuteTime": {
     "end_time": "2023-11-28T07:54:32.746564089Z",
     "start_time": "2023-11-28T07:54:32.741973891Z"
    }
   },
   "id": "cf42ef72bfc30c6c"
  },
  {
   "cell_type": "code",
   "execution_count": 37,
   "outputs": [],
   "source": [
    "def step_pair(lhs: Particle, rhs: Particle, sigma: float, eps: float, dt: float = 1):\n",
    "    ax, ay = get_a_2d(lhs.x, lhs.y, rhs.x, rhs.y, sigma, eps)\n",
    "    vx, vy = get_v_2d(lhs.vx, lhs.vy, ax, ay, dt)\n",
    "    x, y = get_coords_2d(lhs.x, lhs.y, vx, vy, ax, ay, dt)\n",
    "    \n",
    "    lhs.set_a(ax, ay)\n",
    "    lhs.set_v(vx, vy)\n",
    "    lhs.set_coords(x, y)"
   ],
   "metadata": {
    "collapsed": false,
    "ExecuteTime": {
     "end_time": "2023-11-28T07:54:33.208033679Z",
     "start_time": "2023-11-28T07:54:33.205358007Z"
    }
   },
   "id": "6f4c13b7ddb88c0c"
  },
  {
   "cell_type": "code",
   "execution_count": 38,
   "outputs": [],
   "source": [
    "p1 = Particle(100, 100)\n",
    "p2 = Particle(120, 100)"
   ],
   "metadata": {
    "collapsed": false,
    "ExecuteTime": {
     "end_time": "2023-11-28T07:54:33.530408961Z",
     "start_time": "2023-11-28T07:54:33.526572472Z"
    }
   },
   "id": "52c054ae98d0a249"
  },
  {
   "cell_type": "code",
   "execution_count": 39,
   "outputs": [],
   "source": [
    "SIGMA = 1\n",
    "EPS = 1\n",
    "\n",
    "step_pair(p1, p2, SIGMA, EPS)\n",
    "step_pair(p2, p1, SIGMA, EPS)"
   ],
   "metadata": {
    "collapsed": false,
    "ExecuteTime": {
     "end_time": "2023-11-28T07:54:33.825606282Z",
     "start_time": "2023-11-28T07:54:33.808876532Z"
    }
   },
   "id": "9280fadeaa64472a"
  },
  {
   "cell_type": "code",
   "execution_count": 41,
   "outputs": [
    {
     "data": {
      "text/plain": "Particle<x: 119.999999971875, y: 100.0, vx: -1.8749999598632812e-08, vy: 0.0, ax: -1.8749999598632812e-08, ay: 0.0>"
     },
     "execution_count": 41,
     "metadata": {},
     "output_type": "execute_result"
    }
   ],
   "source": [
    "p1\n",
    "p2"
   ],
   "metadata": {
    "collapsed": false,
    "ExecuteTime": {
     "end_time": "2023-11-28T07:54:43.445166939Z",
     "start_time": "2023-11-28T07:54:43.438082320Z"
    }
   },
   "id": "75273bae2691be8d"
  }
 ],
 "metadata": {
  "kernelspec": {
   "display_name": "Python 3",
   "language": "python",
   "name": "python3"
  },
  "language_info": {
   "codemirror_mode": {
    "name": "ipython",
    "version": 2
   },
   "file_extension": ".py",
   "mimetype": "text/x-python",
   "name": "python",
   "nbconvert_exporter": "python",
   "pygments_lexer": "ipython2",
   "version": "2.7.6"
  }
 },
 "nbformat": 4,
 "nbformat_minor": 5
}
